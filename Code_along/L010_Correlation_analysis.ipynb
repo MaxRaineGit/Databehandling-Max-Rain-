{
 "cells": [
  {
   "cell_type": "code",
   "execution_count": 1,
   "metadata": {},
   "outputs": [],
   "source": [
    "import pandas as pd\n",
    "import seaborn as sns"
   ]
  },
  {
   "cell_type": "code",
   "execution_count": null,
   "metadata": {},
   "outputs": [],
   "source": [
    "titanic = sns.load(\"\")"
   ]
  },
  {
   "cell_type": "markdown",
   "metadata": {},
   "source": [
    "## Correlation analysis \n",
    "* Correlation analysis is a statistical technique use to examine the strength and direction of the relationship between two or more variables. It involes analysing the degree to which changes in one variable are associared with changes in another variable.\n",
    "\n",
    "### Pandas .corr() method\n",
    "* Calculates the correlation coefficiency between all pairs of features in a dataframe, and returns a new datafram where the number of rows and colums both matth the number of colums in the input df."
   ]
  },
  {
   "cell_type": "code",
   "execution_count": null,
   "metadata": {},
   "outputs": [],
   "source": [
    "correlation_matrix"
   ]
  }
 ],
 "metadata": {
  "kernelspec": {
   "display_name": "Databehandling-Max-Rain--ARGqDdif",
   "language": "python",
   "name": "python3"
  },
  "language_info": {
   "codemirror_mode": {
    "name": "ipython",
    "version": 3
   },
   "file_extension": ".py",
   "mimetype": "text/x-python",
   "name": "python",
   "nbconvert_exporter": "python",
   "pygments_lexer": "ipython3",
   "version": "3.11.5"
  }
 },
 "nbformat": 4,
 "nbformat_minor": 2
}
