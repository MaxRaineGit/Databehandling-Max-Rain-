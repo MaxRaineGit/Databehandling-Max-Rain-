{
 "cells": [
  {
   "cell_type": "markdown",
   "metadata": {},
   "source": [
    "### Pandas time series\n",
    "A series or dataframe using a datetime index instead of a range index.\n",
    "\n",
    "Used fpr storing events/data the fits on a timeline.\n",
    "- Weather data.\n",
    "- Temperature readings.\n",
    "- Heart rate monitoring (EKG).\n",
    "- Quarterly sales.\n",
    "- Stock prices."
   ]
  },
  {
   "cell_type": "code",
   "execution_count": 1,
   "metadata": {},
   "outputs": [],
   "source": [
    "import pandas as pd\n",
    "import numpy as np"
   ]
  },
  {
   "cell_type": "markdown",
   "metadata": {},
   "source": [
    "### Creating a datetimeindex\n",
    "Use date_range() with 3 of the 4 parameters:\n",
    "- start\n",
    "- end\n",
    "- periods (if start and end periods = points in between, if with freq periods = amount of jumps with freq)\n",
    "- freq (size of the jump either between two points (start,end), or amount of periods)"
   ]
  },
  {
   "cell_type": "code",
   "execution_count": 2,
   "metadata": {},
   "outputs": [
    {
     "name": "stdout",
     "output_type": "stream",
     "text": [
      "DatetimeIndex(['2018-01-01', '2018-01-02', '2018-01-03', '2018-01-04',\n",
      "               '2018-01-05', '2018-01-06', '2018-01-07', '2018-01-08',\n",
      "               '2018-01-09', '2018-01-10',\n",
      "               ...\n",
      "               '2019-12-22', '2019-12-23', '2019-12-24', '2019-12-25',\n",
      "               '2019-12-26', '2019-12-27', '2019-12-28', '2019-12-29',\n",
      "               '2019-12-30', '2019-12-31'],\n",
      "              dtype='datetime64[ns]', length=730, freq='D')\n"
     ]
    }
   ],
   "source": [
    "datetimeindex = pd.date_range(start='2018-01-01', end='2019-12-31', freq='d')\n",
    "print(datetimeindex)"
   ]
  },
  {
   "cell_type": "code",
   "execution_count": 3,
   "metadata": {},
   "outputs": [
    {
     "data": {
      "text/html": [
       "<div>\n",
       "<style scoped>\n",
       "    .dataframe tbody tr th:only-of-type {\n",
       "        vertical-align: middle;\n",
       "    }\n",
       "\n",
       "    .dataframe tbody tr th {\n",
       "        vertical-align: top;\n",
       "    }\n",
       "\n",
       "    .dataframe thead th {\n",
       "        text-align: right;\n",
       "    }\n",
       "</style>\n",
       "<table border=\"1\" class=\"dataframe\">\n",
       "  <thead>\n",
       "    <tr style=\"text-align: right;\">\n",
       "      <th></th>\n",
       "      <th>n</th>\n",
       "      <th>rand</th>\n",
       "    </tr>\n",
       "  </thead>\n",
       "  <tbody>\n",
       "    <tr>\n",
       "      <th>2018-01-01</th>\n",
       "      <td>0</td>\n",
       "      <td>0.126925</td>\n",
       "    </tr>\n",
       "    <tr>\n",
       "      <th>2018-01-02</th>\n",
       "      <td>1</td>\n",
       "      <td>0.093664</td>\n",
       "    </tr>\n",
       "    <tr>\n",
       "      <th>2018-01-03</th>\n",
       "      <td>2</td>\n",
       "      <td>0.705756</td>\n",
       "    </tr>\n",
       "    <tr>\n",
       "      <th>2018-01-04</th>\n",
       "      <td>3</td>\n",
       "      <td>0.274367</td>\n",
       "    </tr>\n",
       "    <tr>\n",
       "      <th>2018-01-05</th>\n",
       "      <td>4</td>\n",
       "      <td>0.751243</td>\n",
       "    </tr>\n",
       "    <tr>\n",
       "      <th>...</th>\n",
       "      <td>...</td>\n",
       "      <td>...</td>\n",
       "    </tr>\n",
       "    <tr>\n",
       "      <th>2019-12-27</th>\n",
       "      <td>725</td>\n",
       "      <td>0.671867</td>\n",
       "    </tr>\n",
       "    <tr>\n",
       "      <th>2019-12-28</th>\n",
       "      <td>726</td>\n",
       "      <td>0.036130</td>\n",
       "    </tr>\n",
       "    <tr>\n",
       "      <th>2019-12-29</th>\n",
       "      <td>727</td>\n",
       "      <td>0.282953</td>\n",
       "    </tr>\n",
       "    <tr>\n",
       "      <th>2019-12-30</th>\n",
       "      <td>728</td>\n",
       "      <td>0.859586</td>\n",
       "    </tr>\n",
       "    <tr>\n",
       "      <th>2019-12-31</th>\n",
       "      <td>729</td>\n",
       "      <td>0.325276</td>\n",
       "    </tr>\n",
       "  </tbody>\n",
       "</table>\n",
       "<p>730 rows × 2 columns</p>\n",
       "</div>"
      ],
      "text/plain": [
       "              n      rand\n",
       "2018-01-01    0  0.126925\n",
       "2018-01-02    1  0.093664\n",
       "2018-01-03    2  0.705756\n",
       "2018-01-04    3  0.274367\n",
       "2018-01-05    4  0.751243\n",
       "...         ...       ...\n",
       "2019-12-27  725  0.671867\n",
       "2019-12-28  726  0.036130\n",
       "2019-12-29  727  0.282953\n",
       "2019-12-30  728  0.859586\n",
       "2019-12-31  729  0.325276\n",
       "\n",
       "[730 rows x 2 columns]"
      ]
     },
     "execution_count": 3,
     "metadata": {},
     "output_type": "execute_result"
    }
   ],
   "source": [
    "df = pd.DataFrame(\n",
    "    dict(\n",
    "        n = range(len(datetimeindex)),\n",
    "        rand = np.random.random(len(datetimeindex))\n",
    "    ),\n",
    "    index=datetimeindex\n",
    ")\n",
    "\n",
    "df"
   ]
  },
  {
   "cell_type": "code",
   "execution_count": 4,
   "metadata": {},
   "outputs": [
    {
     "data": {
      "text/html": [
       "<div>\n",
       "<style scoped>\n",
       "    .dataframe tbody tr th:only-of-type {\n",
       "        vertical-align: middle;\n",
       "    }\n",
       "\n",
       "    .dataframe tbody tr th {\n",
       "        vertical-align: top;\n",
       "    }\n",
       "\n",
       "    .dataframe thead th {\n",
       "        text-align: right;\n",
       "    }\n",
       "</style>\n",
       "<table border=\"1\" class=\"dataframe\">\n",
       "  <thead>\n",
       "    <tr style=\"text-align: right;\">\n",
       "      <th></th>\n",
       "      <th>n</th>\n",
       "      <th>rand</th>\n",
       "    </tr>\n",
       "  </thead>\n",
       "  <tbody>\n",
       "    <tr>\n",
       "      <th>2019-03-29</th>\n",
       "      <td>452</td>\n",
       "      <td>0.332843</td>\n",
       "    </tr>\n",
       "    <tr>\n",
       "      <th>2019-03-30</th>\n",
       "      <td>453</td>\n",
       "      <td>0.820084</td>\n",
       "    </tr>\n",
       "    <tr>\n",
       "      <th>2019-03-31</th>\n",
       "      <td>454</td>\n",
       "      <td>0.491686</td>\n",
       "    </tr>\n",
       "    <tr>\n",
       "      <th>2019-04-01</th>\n",
       "      <td>455</td>\n",
       "      <td>0.712248</td>\n",
       "    </tr>\n",
       "    <tr>\n",
       "      <th>2019-04-02</th>\n",
       "      <td>456</td>\n",
       "      <td>0.796318</td>\n",
       "    </tr>\n",
       "    <tr>\n",
       "      <th>...</th>\n",
       "      <td>...</td>\n",
       "      <td>...</td>\n",
       "    </tr>\n",
       "    <tr>\n",
       "      <th>2019-05-27</th>\n",
       "      <td>511</td>\n",
       "      <td>0.973269</td>\n",
       "    </tr>\n",
       "    <tr>\n",
       "      <th>2019-05-28</th>\n",
       "      <td>512</td>\n",
       "      <td>0.378365</td>\n",
       "    </tr>\n",
       "    <tr>\n",
       "      <th>2019-05-29</th>\n",
       "      <td>513</td>\n",
       "      <td>0.502481</td>\n",
       "    </tr>\n",
       "    <tr>\n",
       "      <th>2019-05-30</th>\n",
       "      <td>514</td>\n",
       "      <td>0.199627</td>\n",
       "    </tr>\n",
       "    <tr>\n",
       "      <th>2019-05-31</th>\n",
       "      <td>515</td>\n",
       "      <td>0.490608</td>\n",
       "    </tr>\n",
       "  </tbody>\n",
       "</table>\n",
       "<p>64 rows × 2 columns</p>\n",
       "</div>"
      ],
      "text/plain": [
       "              n      rand\n",
       "2019-03-29  452  0.332843\n",
       "2019-03-30  453  0.820084\n",
       "2019-03-31  454  0.491686\n",
       "2019-04-01  455  0.712248\n",
       "2019-04-02  456  0.796318\n",
       "...         ...       ...\n",
       "2019-05-27  511  0.973269\n",
       "2019-05-28  512  0.378365\n",
       "2019-05-29  513  0.502481\n",
       "2019-05-30  514  0.199627\n",
       "2019-05-31  515  0.490608\n",
       "\n",
       "[64 rows x 2 columns]"
      ]
     },
     "execution_count": 4,
     "metadata": {},
     "output_type": "execute_result"
    }
   ],
   "source": [
    "df.loc[\"2018-03-15\"]\n",
    "df.loc[:\"2018-01-15\"]\n",
    "df.loc[\"2018-03-15\":\"2018-03-20\"]\n",
    "df.loc[\"2018-03\"]\n",
    "df.loc[\"2019\"]\n",
    "df.loc[\"2019-03-29\":\"2019-05\"]"
   ]
  },
  {
   "cell_type": "markdown",
   "metadata": {},
   "source": [
    "### Resampling \n",
    "Resampling is the practice of creating new samples with a lower or higher frequency than the original."
   ]
  },
  {
   "cell_type": "markdown",
   "metadata": {},
   "source": [
    "### Downsampling\n",
    "When the sample frequency is lower than the original we can aggregate values from the original data."
   ]
  },
  {
   "cell_type": "code",
   "execution_count": 10,
   "metadata": {},
   "outputs": [
    {
     "name": "stderr",
     "output_type": "stream",
     "text": [
      "<>:5: SyntaxWarning: list indices must be integers or slices, not tuple; perhaps you missed a comma?\n",
      "<>:5: SyntaxWarning: list indices must be integers or slices, not tuple; perhaps you missed a comma?\n"
     ]
    },
    {
     "ename": "ImportError",
     "evalue": "cannot import name 'hdisplay' from 'helpers' (c:\\Users\\maxra\\.virtualenvs\\Databehandling-Max-Rain--ARGqDdif\\Lib\\site-packages\\helpers\\__init__.py)",
     "output_type": "error",
     "traceback": [
      "\u001b[1;31m---------------------------------------------------------------------------\u001b[0m",
      "\u001b[1;31mImportError\u001b[0m                               Traceback (most recent call last)",
      "\u001b[1;32mc:\\Users\\maxra\\Documents\\Github\\Databehandling-Max-Rain-\\Code_along\\L017_timeseries.ipynb Cell 9\u001b[0m line \u001b[0;36m1\n\u001b[1;32m----> <a href='vscode-notebook-cell:/c%3A/Users/maxra/Documents/Github/Databehandling-Max-Rain-/Code_along/L017_timeseries.ipynb#X12sZmlsZQ%3D%3D?line=0'>1</a>\u001b[0m \u001b[39mfrom\u001b[39;00m \u001b[39mhelpers\u001b[39;00m \u001b[39mimport\u001b[39;00m hdisplay\n\u001b[0;32m      <a href='vscode-notebook-cell:/c%3A/Users/maxra/Documents/Github/Databehandling-Max-Rain-/Code_along/L017_timeseries.ipynb#X12sZmlsZQ%3D%3D?line=2'>3</a>\u001b[0m resample_method \u001b[39m=\u001b[39m \u001b[39m\"\u001b[39m\u001b[39m2D\u001b[39m\u001b[39m\"\u001b[39m\n\u001b[0;32m      <a href='vscode-notebook-cell:/c%3A/Users/maxra/Documents/Github/Databehandling-Max-Rain-/Code_along/L017_timeseries.ipynb#X12sZmlsZQ%3D%3D?line=4'>5</a>\u001b[0m hdisplay([\n\u001b[0;32m      <a href='vscode-notebook-cell:/c%3A/Users/maxra/Documents/Github/Databehandling-Max-Rain-/Code_along/L017_timeseries.ipynb#X12sZmlsZQ%3D%3D?line=5'>6</a>\u001b[0m     df\u001b[39m.\u001b[39mhead(\u001b[39m10\u001b[39m),\n\u001b[0;32m      <a href='vscode-notebook-cell:/c%3A/Users/maxra/Documents/Github/Databehandling-Max-Rain-/Code_along/L017_timeseries.ipynb#X12sZmlsZQ%3D%3D?line=6'>7</a>\u001b[0m     df\u001b[39m.\u001b[39mresample(\u001b[39m\"\u001b[39m\u001b[39m2D\u001b[39m\u001b[39m\"\u001b[39m)\u001b[39m.\u001b[39magg({\u001b[39m\"\u001b[39m\u001b[39mn\u001b[39m\u001b[39m\"\u001b[39m: \u001b[39m\"\u001b[39m\u001b[39mmax\u001b[39m\u001b[39m\"\u001b[39m, \u001b[39m\"\u001b[39m\u001b[39mrand\u001b[39m\u001b[39m\"\u001b[39m: \u001b[39m\"\u001b[39m\u001b[39msum\u001b[39m\u001b[39m\"\u001b[39m}\u001b[39m.\u001b[39mhead(\u001b[39m10\u001b[39m))]\n\u001b[0;32m      <a href='vscode-notebook-cell:/c%3A/Users/maxra/Documents/Github/Databehandling-Max-Rain-/Code_along/L017_timeseries.ipynb#X12sZmlsZQ%3D%3D?line=7'>8</a>\u001b[0m     [\u001b[39m\"\u001b[39m\u001b[39mOriginal\u001b[39m\u001b[39m\"\u001b[39m, \u001b[39mf\u001b[39m\u001b[39m\"\u001b[39m\u001b[39mResampled using \u001b[39m\u001b[39m'\u001b[39m\u001b[39m{\u001b[39;00mresample_method\u001b[39m}\u001b[39;00m\u001b[39m'\u001b[39m\u001b[39m\"\u001b[39m]\n\u001b[0;32m      <a href='vscode-notebook-cell:/c%3A/Users/maxra/Documents/Github/Databehandling-Max-Rain-/Code_along/L017_timeseries.ipynb#X12sZmlsZQ%3D%3D?line=8'>9</a>\u001b[0m )\n",
      "\u001b[1;31mImportError\u001b[0m: cannot import name 'hdisplay' from 'helpers' (c:\\Users\\maxra\\.virtualenvs\\Databehandling-Max-Rain--ARGqDdif\\Lib\\site-packages\\helpers\\__init__.py)"
     ]
    }
   ],
   "source": [
    "from helpers import hdisplay\n",
    "\n",
    "resample_method = \"Y\"\n",
    "\n",
    "hdisplay([\n",
    "    df.head(10),\n",
    "    df.resample(\"2D\").agg({\"n\": \"max\", \"rand\": \"sum\"}.head(10))]\n",
    "    [\"Original\", f\"Resampled using '{resample_method}'\"]\n",
    ")\n"
   ]
  },
  {
   "cell_type": "markdown",
   "metadata": {},
   "source": [
    "### Upsampling \n",
    "When the sample frequency is higher than the original, we can fill between values:\n",
    "* ffill\n",
    "* bfill\n",
    "* nearest\n",
    "* interpolate\n",
    "* fillna"
   ]
  }
 ],
 "metadata": {
  "kernelspec": {
   "display_name": "Databehandling-Max-Rain--ARGqDdif",
   "language": "python",
   "name": "python3"
  },
  "language_info": {
   "codemirror_mode": {
    "name": "ipython",
    "version": 3
   },
   "file_extension": ".py",
   "mimetype": "text/x-python",
   "name": "python",
   "nbconvert_exporter": "python",
   "pygments_lexer": "ipython3",
   "version": "3.11.5"
  }
 },
 "nbformat": 4,
 "nbformat_minor": 2
}
